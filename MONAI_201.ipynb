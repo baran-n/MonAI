{
 "cells": [
  {
   "cell_type": "markdown",
   "id": "d59e123e-8528-4f8e-b75a-040ce49027d0",
   "metadata": {},
   "source": [
    "# MONAI Rehberi 1.2(Classification)\n",
    "### 1. MONAI ve Gerekli Kütüphanelerin Yüklenmesi"
   ]
  },
  {
   "cell_type": "code",
   "execution_count": null,
   "id": "7cc3d2bf-e407-427f-980e-76417d3f7e24",
   "metadata": {},
   "outputs": [],
   "source": [
    "!python -c \"import monai\" || pip install -q \"monai-weekly[ignite, tqdm, tensorboard]\""
   ]
  },
  {
   "cell_type": "markdown",
   "id": "6e1a772b-8dd3-45d7-9a22-81a67e36dac6",
   "metadata": {},
   "source": [
    "- Bu komut, MONAI'nin yüklü olup olmadığını kontrol eder. Yüklü değilse, `pip install` komutu kullanılarak en güncel sürümü yüklenir.\n",
    "- **`ignite`**, **`tqdm`** ve **`tensorboard`** gibi MONAI ile uyumlu ek kütüphaneler de yüklenir."
   ]
  },
  {
   "cell_type": "markdown",
   "id": "dcc37fb2-ba78-4bb4-b9c5-c9407a20e7f4",
   "metadata": {},
   "source": [
    "### 2. Gerekli Kütüphanelerin İçe Aktarılması"
   ]
  },
  {
   "cell_type": "code",
   "execution_count": null,
   "id": "9972f0c4-7d95-4aaa-9c7b-68bab698fb43",
   "metadata": {},
   "outputs": [],
   "source": [
    "import logging\n",
    "import numpy as np\n",
    "import os\n",
    "from pathlib import Path\n",
    "import sys\n",
    "import tempfile\n",
    "import torch\n",
    "import ignite\n",
    "\n",
    "from monai.apps import MedNISTDataset\n",
    "from monai.config import print_config\n",
    "from monai.data import DataLoader\n",
    "from monai.engines import SupervisedTrainer, SupervisedEvaluator\n",
    "from monai.handlers import (\n",
    "    StatsHandler,\n",
    "    TensorBoardStatsHandler,\n",
    "    ValidationHandler,\n",
    "    CheckpointSaver,\n",
    "    CheckpointLoader,\n",
    "    ClassificationSaver,\n",
    ")\n",
    "from monai.handlers.utils import from_engine\n",
    "from monai.inferers import SimpleInferer\n",
    "from monai.networks.nets import densenet121\n",
    "from monai.transforms import LoadImageD, EnsureChannelFirstD, ScaleIntensityD, Compose, AsDiscreted\n",
    "\n",
    "print_config()"
   ]
  },
  {
   "cell_type": "markdown",
   "id": "e306be89-43c9-48b1-b582-d96bb45648b5",
   "metadata": {},
   "source": [
    "- Yukarıdaki kod, MONAI'nin işleyişi için gerekli kütüphaneleri içe aktarır. \n",
    "- **`print_config()`**, MONAI'nin mevcut sürümünü ve sistem yapılandırmasını terminalde gösterir. Böylece sürüm uyumluluğu doğrulanır."
   ]
  },
  {
   "cell_type": "markdown",
   "id": "93888b64-9b44-49b7-9a1a-d9bd24a03dfa",
   "metadata": {},
   "source": [
    "### 3. Veri Setinin Hazırlanması"
   ]
  },
  {
   "cell_type": "code",
   "execution_count": null,
   "id": "a8dbbf69-ca79-4a3f-a7d6-f5619ad35e7e",
   "metadata": {},
   "outputs": [],
   "source": [
    "directory = os.environ.get(\"MONAI_DATA_DIRECTORY\")\n",
    "if directory is not None:\n",
    "    os.makedirs(directory, exist_ok=True)\n",
    "root_dir = tempfile.mkdtemp() if directory is None else directory\n",
    "print(root_dir)"
   ]
  },
  {
   "cell_type": "markdown",
   "id": "03fc3531-32f2-41e0-9cb2-43c8984c1be8",
   "metadata": {},
   "source": [
    "- `root_dir`, MedNIST veri setini depolamak için geçici bir dizin oluşturur. \n",
    "- Eğer ortam değişkeni olarak bir MONAI veri dizini belirtilmişse, bu kullanılır."
   ]
  },
  {
   "cell_type": "code",
   "execution_count": null,
   "id": "7c1256de-8304-4c34-af76-3e6aa6fd7230",
   "metadata": {},
   "outputs": [],
   "source": [
    "transform = Compose(\n",
    "    [\n",
    "        LoadImageD(keys=\"image\", image_only=True),\n",
    "        EnsureChannelFirstD(keys=\"image\"),\n",
    "        ScaleIntensityD(keys=\"image\"),\n",
    "    ]\n",
    ")\n",
    "\n",
    "dataset = MedNISTDataset(root_dir=root_dir, transform=transform, section=\"training\", download=True)\n",
    "valdata = MedNISTDataset(root_dir=root_dir, transform=transform, section=\"validation\", download=False)"
   ]
  },
  {
   "cell_type": "markdown",
   "id": "2442762c-5f18-4241-ba53-3c8d359a715a",
   "metadata": {},
   "source": [
    "- **`LoadImageD`**: Görüntüleri dosyadan yükler.\n",
    "- **`EnsureChannelFirstD`**: Görüntülerin kanal boyutunu modele uygun şekilde düzenler. Örneğin, bir 2D görüntüyü `(Height, Width)` yerine `(Channels, Height, Width)` formatına çevirir.\n",
    "- **`ScaleIntensityD`**: Görüntü yoğunluğunu normalize eder, yani tüm piksel değerlerini 0 ile 1 arasında ölçekler.\n",
    "- **`MedNISTDataset`**: MONAI’nin sunduğu hazır bir tıbbi görüntü veri setidir. Eğitim ve doğrulama için veri bölümleri oluşturulur."
   ]
  },
  {
   "cell_type": "markdown",
   "id": "968f74f8-79b3-4177-b5ed-5b0bcb4219d3",
   "metadata": {},
   "source": [
    "### 4. Model Tanımlama ve Eğitim"
   ]
  },
  {
   "cell_type": "code",
   "execution_count": null,
   "id": "67d11c58-de54-4ec2-8133-80252dd9b47a",
   "metadata": {},
   "outputs": [],
   "source": [
    "max_epochs = 5\n",
    "save_interval = 2\n",
    "out_dir = \"./eval\"\n",
    "model = densenet121(spatial_dims=2, in_channels=1, out_channels=6).to(\"cuda:0\")\n",
    "\n",
    "logging.basicConfig(stream=sys.stdout, level=logging.INFO)\n",
    "\n",
    "evaluator = SupervisedEvaluator(\n",
    "    device=torch.device(\"cuda:0\"),\n",
    "    val_data_loader=DataLoader(valdata, batch_size=512, shuffle=False, num_workers=4),\n",
    "    network=model,\n",
    "    inferer=SimpleInferer(),\n",
    "    key_val_metric={\"val_acc\": ignite.metrics.Accuracy(from_engine([\"pred\", \"label\"]))},\n",
    "    val_handlers=[StatsHandler(iteration_log=False), TensorBoardStatsHandler(iteration_log=False)],\n",
    ")\n",
    "\n",
    "trainer = SupervisedTrainer(\n",
    "    device=torch.device(\"cuda:0\"),\n",
    "    max_epochs=max_epochs,\n",
    "    train_data_loader=DataLoader(dataset, batch_size=512, shuffle=True, num_workers=4),\n",
    "    network=model,\n",
    "    optimizer=torch.optim.Adam(model.parameters(), lr=1e-5),\n",
    "    loss_function=torch.nn.CrossEntropyLoss(),\n",
    "    inferer=SimpleInferer(),\n",
    "    train_handlers=[\n",
    "        ValidationHandler(validator=evaluator, epoch_level=True, interval=1),\n",
    "        CheckpointSaver(save_dir=out_dir, save_dict={\"model\": model}, save_interval=save_interval, save_final=True),\n",
    "        StatsHandler(),\n",
    "        TensorBoardStatsHandler(tag_name=\"train_loss\", output_transform=from_engine([\"loss\"], first=True)),\n",
    "    ],\n",
    ")\n",
    "trainer.run()"
   ]
  },
  {
   "cell_type": "markdown",
   "id": "e40557ef-af22-477b-b01f-dd33937c2ffa",
   "metadata": {},
   "source": [
    "- **`densenet121`**: DenseNet-121 modelini oluşturur. Bu model, tıbbi görüntüler için optimize edilmiş bir sinir ağıdır.\n",
    "  - `spatial_dims=2`: 2 boyutlu verilerle çalışır.\n",
    "  - `in_channels=1`: Giriş kanalı sayısı (örneğin, gri tonlu görüntüler için 1).\n",
    "  - `out_channels=6`: Çıkış sınıfı sayısıdır. (MedNIST veri setindeki sınıfların sayısı)\n",
    "- **`SupervisedTrainer`**: Modeli eğitmek için kullanılan bir sınıftır.\n",
    "- **`ValidationHandler`**: Her epoch sonunda doğrulama verisiyle performansı değerlendirir.\n",
    "- **`CheckpointSaver`**: Modeli belirli aralıklarla kaydeder.\n"
   ]
  },
  {
   "cell_type": "markdown",
   "id": "07924eae-d267-40f8-a62d-1f84bd992e0d",
   "metadata": {},
   "source": [
    "### Test ve Sonuçlar"
   ]
  },
  {
   "cell_type": "code",
   "execution_count": null,
   "id": "34329e34-b8cb-4284-b07d-7704140b1987",
   "metadata": {},
   "outputs": [],
   "source": [
    "testdata = MedNISTDataset(root_dir=root_dir, transform=transform, section=\"test\", download=False, runtime_cache=True)\n",
    "evaluator.run()"
   ]
  },
  {
   "cell_type": "markdown",
   "id": "6c1b932f-254a-47d8-bff0-7b23aced08b6",
   "metadata": {},
   "source": [
    "- **`testdata`**: Test verisini yükler.\n",
    "- **`evaluator.run()`**: Eğitilen modeli test verisi üzerinde çalıştırır ve doğruluk gibi metrikleri hesaplar."
   ]
  },
  {
   "cell_type": "code",
   "execution_count": null,
   "id": "90db5085-1801-4f97-82ce-5f09d796fc60",
   "metadata": {},
   "outputs": [],
   "source": []
  }
 ],
 "metadata": {
  "kernelspec": {
   "display_name": "Python 3 (ipykernel)",
   "language": "python",
   "name": "python3"
  },
  "language_info": {
   "codemirror_mode": {
    "name": "ipython",
    "version": 3
   },
   "file_extension": ".py",
   "mimetype": "text/x-python",
   "name": "python",
   "nbconvert_exporter": "python",
   "pygments_lexer": "ipython3",
   "version": "3.10.11"
  }
 },
 "nbformat": 4,
 "nbformat_minor": 5
}
